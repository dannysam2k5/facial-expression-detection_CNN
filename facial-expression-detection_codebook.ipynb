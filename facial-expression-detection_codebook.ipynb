{
 "cells": [
  {
   "cell_type": "markdown",
   "id": "cbc78de8",
   "metadata": {},
   "source": [
    "# Facial Expression Detection using Convolutional Neural Networks 🤖📷\n",
    "\n",
    "Facial expression detection is a fascinating field within computer vision that involves the recognition and interpretation of human emotions based on facial expressions. In this Jupyter Notebook, we'll build a Facial Expression Detection model using Convolutional Neural Networks (CNNs). This model will be trained to classify facial expressions into different emotion categories, such as happiness, sadness, anger, etc. 😊😢😠\n",
    "\n",
    "### Goal 🚀💻\n",
    "The primary goal of this project is to create an effective facial expression detection system that can be integrated into various applications, including human-computer interaction, virtual reality, and emotion-aware technology.\n",
    "\n",
    "### Tools & Libraries 🛠️\n",
    "\n",
    "We will be using the below tools and libriaries for our implementation\n",
    "- TensorFlow: An open-source machine learning framework that includes tools for building and training deep learning models.\n",
    "- Keras: A high-level neural network API that runs on top of TensorFlow, making it easier to build and experiment with deep learning models.\n",
    "- Matplotlib: A visualisation library 📊🐍\n",
    "\n",
    "## Implementation Steps\n",
    "1. **Environment setup:** \n",
    "2. **Import necessary libraries:**\n",
    "3. **Dataset collection:**\n",
    "4. **Data Augmentation:**\n",
    "5. **CNN model building:**\n",
    "6. **Model training:**\n",
    "7. **Model evaluation:**\n",
    "\n",
    "Throughout the notebook, we'll provide detailed explanations, code snippets and visualizations to ensure a clear understanding of the entire process. 🧠🛠️\n",
    "\n",
    "Let's get started! 🚀🚀🚀🚀"
   ]
  },
  {
   "cell_type": "markdown",
   "id": "1bdf2718",
   "metadata": {},
   "source": [
    "## Step 1: Environment setup\n",
    "Ensure all necessary libraries are installed. Installation can be achieved using the below command"
   ]
  },
  {
   "cell_type": "code",
   "execution_count": null,
   "id": "9a1d6d03",
   "metadata": {},
   "outputs": [],
   "source": [
    "# Use the pip to install the necessary libraries\n",
    "# !pip install tensorflow\n",
    "# !pip install numpy\n",
    "# !pip install matplotlib\n",
    "# !pip install opencv-python\n",
    "\n",
    "\n",
    "# The below code snippet is used to check the versions of the libraries\n",
    "import tensorflow as tf\n",
    "import numpy as np\n",
    "import matplotlib\n",
    "import cv2\n",
    "\n",
    "print(\"TensorFlow version:\", tf.__version__)\n",
    "print(\"NumPy version:\", np.__version__)\n",
    "print(\"Matplotlib version:\", matplotlib.__version__)\n",
    "print(\"OpenCV version:\", cv2.__version__)\n",
    "\n",
    "\n"
   ]
  },
  {
   "cell_type": "markdown",
   "id": "0e9be98f",
   "metadata": {},
   "source": [
    "## Step 2: Import necessary libraries\n",
    "\n",
    "Import all required libraries in this section of your notebook. It is always good practice to keep your code tidy and well structured."
   ]
  },
  {
   "cell_type": "code",
   "execution_count": 13,
   "id": "b75f282e",
   "metadata": {},
   "outputs": [],
   "source": [
    "# operating system libraries\n",
    "import os\n",
    "import random\n",
    "\n",
    "# Open Computer vision libraries\n",
    "import cv2 as cv\n",
    "\n",
    "# File operation libraries\n",
    "import shutil\n",
    "import yaml\n",
    "import pandas as pd\n",
    "\n",
    "# Deep learning libraries\n",
    "import tensorflow as tf\n",
    "from keras.models import Sequential\n",
    "from keras.layers import InputLayer, Conv2D, MaxPooling2D, Flatten, Dropout, Dense\n",
    "from keras.preprocessing.image import ImageDataGenerator\n",
    "from keras.callbacks import EarlyStopping\n",
    "\n",
    "\n",
    "# visualization libraries\n",
    "import matplotlib.pyplot as plt\n",
    "\n",
    "# Disable warnings\n",
    "import warnings\n",
    "warnings.filterwarnings('ignore')"
   ]
  },
  {
   "cell_type": "markdown",
   "id": "e3cd8eb1",
   "metadata": {},
   "source": [
    "## Step 3: Dataset collection\n",
    "\n",
    "For the purpose this exercise, we will use facial expression dataset named **[FER2013](https://www.kaggle.com/datasets/msambare/fer2013)** from Kaggle. \n",
    "The **[FER2013](https://www.kaggle.com/datasets/msambare/fer2013)** dataset is intended for use in facial expression recognition tasks.\n",
    "\n",
    "According to the instructions on the Kaggle website, the entire data set is separated into train-test folders with image in grayscale All images are exactly 48 x 48 pixels.\n",
    "\n",
    "The dataset is divided into two parts:\n",
    "\n",
    "- train (28,709 images)\n",
    "- test (7,178 images)\n",
    "\n",
    "\n",
    "There are 8 emotion classes which are mapped as:\n",
    "- 0- Anger\n",
    "- 1- Disgust\n",
    "- 2- Fear\n",
    "- 3- Happy\n",
    "- 4- Sad\n",
    "- 5- Surprise\n",
    "- 6- Neutral\n",
    "\n"
   ]
  },
  {
   "cell_type": "code",
   "execution_count": 3,
   "id": "2350bd4f",
   "metadata": {},
   "outputs": [],
   "source": [
    "# Define dataset directory\n",
    "dataset_dir = \"dataset/fer2013\"\n",
    "\n",
    "# Define image subdirectories for test, train, validation sets\n",
    "train_image_dir = os.path.join(dataset_dir, \"train\")\n",
    "test_image_dir = os.path.join(dataset_dir, \"test\")\n",
    "\n",
    "# Lets try and list the image files in each directory\n",
    "train_images = os.listdir(train_image_dir)\n",
    "test_images = os.listdir(test_image_dir)\n"
   ]
  },
  {
   "cell_type": "markdown",
   "id": "017a7a29",
   "metadata": {},
   "source": [
    "### Lets explore the data a little bit"
   ]
  },
  {
   "cell_type": "code",
   "execution_count": 21,
   "id": "c5678db9",
   "metadata": {},
   "outputs": [],
   "source": [
    "def count_files_in_each_directory(directory):\n",
    "    directory_counts = {}\n",
    "    for dir_name in os.listdir(directory):\n",
    "        directory_path = os.path.join(directory, dir_name)\n",
    "        if os.path.isdir(directory_path):\n",
    "            directory_counts[dir_name] = len(os.listdir(directory_path))\n",
    "    return pd.DataFrame(directory_counts, index=['count'])\n",
    "        \n",
    "    "
   ]
  },
  {
   "cell_type": "code",
   "execution_count": 24,
   "id": "99191ccc",
   "metadata": {},
   "outputs": [
    {
     "name": "stdout",
     "output_type": "stream",
     "text": [
      "Train directory counts:\n",
      "       angry  disgusted  fearful  happy  neutral   sad  surprised\n",
      "count   3995        436     4097   7215     4965  4830       3171\n",
      "\n",
      "Test directory counts:\n",
      "       angry  disgusted  fearful  happy  neutral   sad  surprised\n",
      "count    958        111     1024   1774     1233  1247        831\n"
     ]
    }
   ],
   "source": [
    "train_directory = dataset_dir + '/train'\n",
    "test_directory = dataset_dir + '/test'\n",
    "\n",
    "train_counts_df = count_files_in_each_directory(train_directory)\n",
    "test_counts_df = count_files_in_each_directory(test_directory)\n",
    "\n",
    "print(\"Train directory counts:\")\n",
    "print(train_counts_df)\n",
    "\n",
    "print(\"\\nTest directory counts:\")\n",
    "print(test_counts_df)"
   ]
  },
  {
   "cell_type": "code",
   "execution_count": 27,
   "id": "6610281a",
   "metadata": {},
   "outputs": [
    {
     "data": {
      "image/png": "[encoded data removed]",
      "text/plain": [
       "<Figure size 1200x600 with 2 Axes>"
      ]
     },
     "metadata": {},
     "output_type": "display_data"
    }
   ],
   "source": [
    "# Plotting\n",
    "fig, axes = plt.subplots(1, 2, figsize=(12, 6))\n",
    "\n",
    "# Train directory counts\n",
    "axes[0].bar(train_counts_df.columns, train_counts_df.loc['count'], color='salmon')\n",
    "axes[0].set_title('Train Directory Counts')\n",
    "axes[0].set_xlabel('Directories')\n",
    "axes[0].set_ylabel('File Count')\n",
    "\n",
    "# Test directory counts\n",
    "axes[1].bar(test_counts_df.columns, test_counts_df.loc['count'], color='skyblue')\n",
    "axes[1].set_title('Test Directory Counts')\n",
    "axes[1].set_xlabel('Directories')\n",
    "axes[1].set_ylabel('File Count')\n",
    "\n",
    "plt.tight_layout()\n",
    "plt.show()\n"
   ]
  },
  {
   "cell_type": "code",
   "execution_count": null,
   "id": "b67682ef",
   "metadata": {},
   "outputs": [],
   "source": [
    "# Create a function to display some sample images from each directory\n",
    "def display_images(directory, images):\n",
    "    plt.figure(figsize=(8, 8))\n",
    "    \n",
    "    # Display 9 random images\n",
    "    random_images = random.sample(images, 9)\n",
    "    \n",
    "    for i in range(9):\n",
    "        plt.subplot(3, 3, i+1)\n",
    "        img_path = os.path.join(directory, random_images[i])\n",
    "        \n",
    "        # Read image using cv.imread\n",
    "        img = cv.imread(img_path)\n",
    "        \n",
    "        # OpenCV loads images in BGR, thus we need to convert to RGB\n",
    "        img = cv.cvtColor(img, cv.COLOR_BGR2RGB)\n",
    "        \n",
    "        # Plot image using matplotlib\n",
    "        plt.imshow(img)\n",
    "        plt.axis('off')\n",
    "        plt.title(images[i])\n",
    "        "
   ]
  },
  {
   "cell_type": "markdown",
   "id": "66dc0e18",
   "metadata": {},
   "source": [
    "### Image Display"
   ]
  },
  {
   "cell_type": "code",
   "execution_count": null,
   "id": "08fbb082",
   "metadata": {},
   "outputs": [],
   "source": [
    "# Display train set images\n",
    "display_images(train_image_dir, train_images)\n",
    "plt.suptitle('Sample Images from Train Set')\n",
    "plt.show()\n",
    "\n",
    "# Display validation set images\n",
    "display_images(valid_image_dir, valid_images)\n",
    "plt.suptitle('Sample Images from Validation Set')\n",
    "plt.show()\n",
    "\n",
    "# Display Test set images\n",
    "display_images(test_image_dir, test_images)\n",
    "plt.suptitle('Sample Images from Test Set')\n",
    "plt.show()\n",
    "\n"
   ]
  },
  {
   "cell_type": "markdown",
   "id": "e2aabbdf",
   "metadata": {},
   "source": [
    "### 3.1 Organize YOLO_format dataset into their respective classes\n"
   ]
  },
  {
   "cell_type": "code",
   "execution_count": null,
   "id": "5af82cd0",
   "metadata": {},
   "outputs": [],
   "source": [
    "# Lets define label mapping\n",
    "labels_map = {\n",
    "    0 : 'Anger',\n",
    "    1 : 'Contempt',\n",
    "    2 : 'Disgust',\n",
    "    3 : 'Fear',\n",
    "    4 : 'Happy',\n",
    "    5 : 'Neutral',\n",
    "    6 : 'Sad',\n",
    "    7 : 'Suprise'\n",
    "}"
   ]
  },
  {
   "cell_type": "code",
   "execution_count": null,
   "id": "76075116",
   "metadata": {},
   "outputs": [],
   "source": [
    "# Lets create a couple of functions to carry out this activity.\n",
    "     \n",
    "def organize_images_by_class(image_dir, output_dir, label_path):\n",
    "    # Create output directory for various classes\n",
    "    os.makedirs(output_dir, exist_ok=True)\n",
    "\n",
    "    images = os.listdir(image_dir)\n",
    "    for image in images:\n",
    "        image_path = os.path.join(image_dir, image)\n",
    "\n",
    "        # Extract class label from the label file content\n",
    "        label_file_path = os.path.join(label_path, os.path.splitext(image)[0] + '.txt')\n",
    "        if not os.path.exists(label_file_path):\n",
    "            # Skip if the label file is missing\n",
    "            print(f\"Warning: Label file not found for image {image}\")\n",
    "            continue\n",
    "\n",
    "        with open(label_file_path, 'r') as label_file:\n",
    "            class_label = int(label_file.readline().split()[0])\n",
    "\n",
    "        # Map class label to class name\n",
    "        class_name = labels_map.get(class_label, f'Unknown_Class_{class_label}')\n",
    "\n",
    "        # Create class subdirectory if not exists\n",
    "        class_path = os.path.join(output_dir, class_name)\n",
    "        os.makedirs(class_path, exist_ok=True)\n",
    "\n",
    "        # Copy image to the class subdirectory\n",
    "        shutil.copy(image_path, os.path.join(class_path, image))\n",
    "        print(f\"Organized {image} to {class_name}\")\n",
    "\n",
    "def create_image_datasets(data_path, output_path, label_path):\n",
    "    # Define paths for train, validation, and test sets\n",
    "    train_images_dir = os.path.join(data_path, 'train/images')\n",
    "    train_labels_dir = os.path.join(data_path, 'train/labels')\n",
    "    train_output_dir = os.path.join(output_path, 'train')\n",
    "\n",
    "    valid_images_dir = os.path.join(data_path, 'valid/images')\n",
    "    valid_labels_dir = os.path.join(data_path, 'valid/labels')\n",
    "    valid_output_dir = os.path.join(output_path, 'valid')\n",
    "\n",
    "    test_images_dir = os.path.join(data_path, 'test/images')\n",
    "    test_labels_dir = os.path.join(data_path, 'test/labels')\n",
    "    test_output_dir = os.path.join(output_path, 'test')\n",
    "\n",
    "    # Organize images for train set\n",
    "    organize_images_by_class(train_images_dir, train_output_dir, train_labels_dir)\n",
    "\n",
    "    # Organize images for validation set\n",
    "    organize_images_by_class(valid_images_dir, valid_output_dir, valid_labels_dir)\n",
    "\n",
    "    # Organize images for test set\n",
    "    organize_images_by_class(test_images_dir, test_output_dir, test_labels_dir)"
   ]
  },
  {
   "cell_type": "markdown",
   "id": "0b220bbe",
   "metadata": {},
   "source": [
    "### Organize YOLO datasets"
   ]
  },
  {
   "cell_type": "code",
   "execution_count": null,
   "id": "10f305db",
   "metadata": {},
   "outputs": [],
   "source": [
    "# Define paths\n",
    "data_path = \"dataset/YOLO_format/\"\n",
    "output_path = \"dataset/image_dataset/\"\n",
    "label_path = \"dataset/YOLO_format/\"\n",
    "\n",
    "create_image_datasets(data_path, output_path, label_path)"
   ]
  },
  {
   "cell_type": "markdown",
   "id": "b737de7a",
   "metadata": {},
   "source": [
    "### Instantiate organize image directories"
   ]
  },
  {
   "cell_type": "code",
   "execution_count": null,
   "id": "3f96b2a7",
   "metadata": {},
   "outputs": [],
   "source": [
    "# Define organized image dataset directory\n",
    "image_dataset_dir = \"dataset\\image_dataset\"\n",
    "\n",
    "# Define image subdirectories for test, train, validation sets\n",
    "train_image_dir = os.path.join(image_dataset_dir, \"train\", \"Anger\")\n",
    "valid_image_dir = os.path.join(image_dataset_dir, \"valid\", \"Anger\")\n",
    "test_image_dir = os.path.join(image_dataset_dir, \"test\", \"Anger\")\n",
    "\n",
    "# Lets try and list the image files in each directory\n",
    "train_images = os.listdir(train_image_dir)\n",
    "valid_images = os.listdir(valid_image_dir)\n",
    "test_images = os.listdir(test_image_dir)"
   ]
  },
  {
   "cell_type": "markdown",
   "id": "0948acdc",
   "metadata": {},
   "source": [
    "## Step 4: Data Augmentation:\n",
    "The data augmentation helps to increase the diversity of the training dataset, thus improving the generalization of the model. TensorFlow provides\n",
    "\n",
    "The images have different backgrounds which can interfere with the model performance. We need to focus only on the Region Of Interest (ROI) which is the face.\n",
    "\n",
    "We will use pre-trained **[Haar-cascade](https://docs.opencv.org/3.4/db/d28/tutorial_cascade_classifier.html)** face classifier from OpenCV for face detection.\n"
   ]
  },
  {
   "cell_type": "markdown",
   "id": "50e37da8",
   "metadata": {},
   "source": [
    "### Remove noisy background\n",
    "\n",
    "The below code is an adaptation from the tutorial code on **[Haar-cascade](https://docs.opencv.org/3.4/db/d28/tutorial_cascade_classifier.html)** website."
   ]
  },
  {
   "cell_type": "code",
   "execution_count": null,
   "id": "7beeab83",
   "metadata": {},
   "outputs": [],
   "source": [
    "# # Load the pre-trained Haar-cascade face classifier from OpenCV\n",
    "# face_cascade = cv.CascadeClassifier(cv.data.haarcascades + 'haarcascade_frontalface_alt.xml')\n",
    "\n",
    "# # Function to extract face from iamge\n",
    "# def extract_face(img_path):\n",
    "#     img = cv.imread(img_path)\n",
    "#     gray = cv.cvtColor(img, cv.COLOR_BGR2GRAY)\n",
    "    \n",
    "#     # Detect face in the image\n",
    "#     face = face_cascade.detectMultiScale(gray, scaleFactor=1.03, minNeighbors=2)\n",
    "    \n",
    "#     # Extract ROI for each face\n",
    "#     extracted_face = [img[y:y+h, x:x+w] for (x, y, w, h) in face]\n",
    "    \n",
    "#     return extracted_face\n",
    "\n",
    "# # Function to display sample images with extracted face.\n",
    "# def display_image_with_face(directory, images):\n",
    "#     plt.figure(figsize=(8, 8))\n",
    "    \n",
    "#     # Display 9 random images\n",
    "#     random_images = random.sample(images, 9)\n",
    "    \n",
    "#     for i in range(9):\n",
    "#         plt.subplot(3, 3, i+1)\n",
    "#         img_path = os.path.join(directory, random_images[i])\n",
    "#         extracted_face = extract_face(img_path)\n",
    "        \n",
    "#         if extracted_face:\n",
    "#             # Display the first extracted face\n",
    "#             plt.imshow(cv.cvtColor(extracted_face[0], cv.COLOR_BGR2RGB))\n",
    "#             plt.axis('off')\n",
    "#             plt.title(random_images[i])    "
   ]
  },
  {
   "cell_type": "markdown",
   "id": "2e231a03",
   "metadata": {},
   "source": [
    "### Image Display of Extracted face"
   ]
  },
  {
   "cell_type": "code",
   "execution_count": null,
   "id": "aaaf8a3b",
   "metadata": {},
   "outputs": [],
   "source": [
    "# # Display train set images with extracted faces\n",
    "# display_image_with_face(train_image_dir, train_images)\n",
    "# plt.suptitle('Sample Images from Train Set with Extracted Faces')\n",
    "# plt.show()\n",
    "\n",
    "# # Display validation set images with extracted faces\n",
    "# display_image_with_face(valid_image_dir, valid_images)\n",
    "# plt.suptitle('Sample Images from Validation Set with Extracted Faces')\n",
    "# plt.show()"
   ]
  },
  {
   "cell_type": "markdown",
   "id": "520b8dff",
   "metadata": {},
   "source": [
    "### Data augmentation"
   ]
  },
  {
   "cell_type": "code",
   "execution_count": null,
   "id": "b1bbcd63",
   "metadata": {},
   "outputs": [],
   "source": [
    "# Data augmentation parameters for training sets\n",
    "train_datagen = ImageDataGenerator (\n",
    "    rescale=1./255,\n",
    "    rotation_range=20,\n",
    "    width_shift_range=0.2,\n",
    "    height_shift_range=0.2,\n",
    "    shear_range=0.2,\n",
    "    zoom_range=0.2,\n",
    "    horizontal_flip=True,\n",
    "    fill_mode='nearest'\n",
    ")\n",
    "\n",
    "# Data augmentation for validation and test sets (usually no augmentation is necessary for these data sets)\n",
    "val_test_datagen = ImageDataGenerator(rescale=1./255)\n",
    "\n",
    "# # Load and preprocess a sample image for demonstration\n",
    "# sample_img_path = os.path.join(train_image_dir, train_images[0])\n",
    "# sample_img = extract_face(sample_img_path)\n",
    "# sample_img = cv.cvtColor(sample_img[0], cv.COLOR_BGR2RGB)\n",
    "# sample_img = sample_img.reshape((1,) + sample_img.shape) # Reshape to (1, height, width, channels)\n",
    "\n",
    "# # Display original and augmented images for comparison\n",
    "# plt.figure(figsize=(8, 8))\n",
    "\n",
    "# # Original image\n",
    "# plt.subplot(1, 4, 1)\n",
    "# plt.imshow(sample_img[0])\n",
    "# plt.title('Original Image')\n",
    "# plt.axis('off')\n",
    "\n",
    "# # Augmented image\n",
    "# for i, augmented_img in enumerate(train_datagen.flow(sample_img, batch_size=1)):\n",
    "#     plt.subplot(1, 4, i + 2)\n",
    "#     plt.imshow(augmented_img[0])\n",
    "#     plt.title(f'Augmented Image {i + 1}')\n",
    "#     plt.axis('off')\n",
    "    \n",
    "#     # Lets Display three augmented images for demonstration\n",
    "#     if i == 2:\n",
    "#         break\n",
    "\n",
    "# plt.tight_layout()\n",
    "# plt.show()"
   ]
  },
  {
   "cell_type": "markdown",
   "id": "5daebe72",
   "metadata": {},
   "source": [
    "### Image generators"
   ]
  },
  {
   "cell_type": "code",
   "execution_count": null,
   "id": "9ae4d359",
   "metadata": {},
   "outputs": [],
   "source": [
    "# Define image directories, train, validation sets for image generators\n",
    "train_image_dir = os.path.join(image_dataset_dir, \"train\")\n",
    "valid_image_dir = os.path.join(image_dataset_dir, \"valid\")\n",
    "test_image_dir = os.path.join(image_dataset_dir, \"test\")"
   ]
  },
  {
   "cell_type": "code",
   "execution_count": null,
   "id": "de51c15b",
   "metadata": {},
   "outputs": [],
   "source": [
    "# Create generator for training, validation, and test sets\n",
    "\n",
    "image_size = (96, 96) # We maintain original sizes of images.\n",
    "batch_size = 32\n",
    "\n",
    "# train_datagen\n",
    "\n",
    "train_generator = train_datagen.flow_from_directory(\n",
    "    train_image_dir,\n",
    "    target_size=image_size,\n",
    "    batch_size=batch_size,\n",
    "    class_mode='categorical',\n",
    "    shuffle=True # Enable shuffle to make model more robust\n",
    ")\n",
    "\n",
    "validation_generator = val_test_datagen.flow_from_directory(\n",
    "    valid_image_dir,\n",
    "    target_size=image_size,\n",
    "    batch_size=batch_size,\n",
    "    class_mode='categorical',\n",
    "    shuffle=False # Disable shuffle to maintain order of labels\n",
    ")\n"
   ]
  },
  {
   "cell_type": "code",
   "execution_count": null,
   "id": "dabea0aa",
   "metadata": {},
   "outputs": [],
   "source": [
    "train_generator.class_indices"
   ]
  },
  {
   "cell_type": "markdown",
   "id": "424798d8",
   "metadata": {},
   "source": [
    "## Step 5: CNN model building:\n",
    "\n",
    "Our model architecture for this task will comprise of **3 convolutional layers** with **2 fully connected layers**. <br>\n",
    "1. The first convolutional layer comprises of **32 filters** with a **kernel of 3x3** and **1 stride** with an input shape of **96 x 96 x 3** and activation function as **ReLu**.\n",
    "2. The second convolutional layer comprises of **64 filters** with a **kernel of 3x3** and activation function as **ReLu**\n",
    "3. The third convolutional layer comprises of **128 filters** with a **kernel of 3x3** and activation function as **ReLu**\n",
    "4. The first fully connected layer comprise of **256 hidden neurons** and activation function as **ReLu**\n",
    "5. The second fully connected layer comprise of **8 output neurons** and activation function as **softmax**\n",
    "\n",
    "Note:\n",
    "References are made to the **[TensorFlow CNN model example](https://www.tensorflow.org/tutorials/images/cnn)** and **[Keras image classification example](https://keras.io/examples/vision/image_classification_from_scratch/)** from the official TensorFlow and Keras website."
   ]
  },
  {
   "cell_type": "code",
   "execution_count": null,
   "id": "f46ba872",
   "metadata": {},
   "outputs": [],
   "source": [
    "# Image Shape\n",
    "image_shape = (96, 96, 3)\n",
    "\n",
    "# create sequential module\n",
    "cnn_model = Sequential()\n",
    "\n",
    "cnn_model.add(InputLayer(input_shape=image_shape))\n",
    "\n",
    "# First Convolution layer\n",
    "cnn_model.add(Conv2D(filters=16, kernel_size=(3, 3), strides=(1, 1), activation='relu'))\n",
    "cnn_model.add(MaxPooling2D(pool_size=(2, 2)))\n",
    "cnn_model.add(Dropout(0.25))\n",
    "\n",
    "cnn_model.add(Conv2D(32, kernel_size=3, activation='relu'))\n",
    "cnn_model.add(MaxPooling2D(2,2))\n",
    "cnn_model.add(Dropout(0.25))\n",
    "cnn_model.add(Conv2D(64, kernel_size=3, activation='relu'))\n",
    "cnn_model.add(MaxPooling2D(2,2))\n",
    "cnn_model.add(Dropout(0.25))\n",
    "cnn_model.add(Conv2D(128, kernel_size=3, activation='relu'))\n",
    "cnn_model.add(MaxPooling2D(2,2))\n",
    "cnn_model.add(Dropout(0.25))\n",
    "cnn_model.add(Flatten())\n",
    "cnn_model.add(Dense(512, activation='relu'))\n",
    "cnn_model.add(Dense(8, activation='softmax'))"
   ]
  },
  {
   "cell_type": "markdown",
   "id": "995fe676",
   "metadata": {},
   "source": [
    "### 5.1 Compile the model\n",
    "I mostly make use of **[TensorFlow official reference doc](https://www.tensorflow.org/api_docs/python/tf/keras/losses/CategoricalCrossentropy\n",
    ")** when building deep nueral network models"
   ]
  },
  {
   "cell_type": "code",
   "execution_count": null,
   "id": "02989c52",
   "metadata": {},
   "outputs": [],
   "source": [
    "cnn_model.compile(optimizer='adam', loss='categorical_crossentropy', metrics=['accuracy'])\n",
    "\n",
    "# Lets display the architecture of our model\n",
    "cnn_model.summary()"
   ]
  },
  {
   "cell_type": "markdown",
   "id": "03dcaf43",
   "metadata": {},
   "source": [
    "## Step 6: Model training :\n",
    "In this section we train the model using the prepared data generators and monitor its performance over multiple epochs."
   ]
  },
  {
   "cell_type": "code",
   "execution_count": null,
   "id": "e3080ab8",
   "metadata": {},
   "outputs": [],
   "source": [
    "# Instantiate early stopping (This helps monitor validation loss and prevent possible overfitting)\n",
    "early_stopping_callback  = EarlyStopping(\n",
    "    monitor='accuracy',\n",
    "    mode='max',\n",
    "    patience=10,\n",
    "    restore_best_weights=True\n",
    ")"
   ]
  },
  {
   "cell_type": "code",
   "execution_count": null,
   "id": "aceb97ba",
   "metadata": {},
   "outputs": [],
   "source": [
    "# use the ?? to get a complete description of the commands. \n",
    "\n",
    "# cnn_model.fit??"
   ]
  },
  {
   "cell_type": "code",
   "execution_count": null,
   "id": "8c4b4af2",
   "metadata": {},
   "outputs": [],
   "source": [
    "# Train model\n",
    "train_history = cnn_model.fit(\n",
    "    train_generator,\n",
    "    epochs=200,\n",
    "    validation_data=validation_generator,\n",
    "    callbacks=[early_stopping_callback]\n",
    "    \n",
    ")"
   ]
  },
  {
   "cell_type": "markdown",
   "id": "e31b9de3",
   "metadata": {},
   "source": [
    "## Step 7: Model evaluation :\n",
    "We evaluate the trained model's performance by visualizing training history."
   ]
  },
  {
   "cell_type": "code",
   "execution_count": null,
   "id": "b94e8c8e",
   "metadata": {},
   "outputs": [],
   "source": [
    "# We create two functions to help us visualize the loss and accuracy of the model\n",
    "\n",
    "def plot_loss(train_loss, val_loss):\n",
    "    fig, ax = plt.subplots()\n",
    "    ax.plot(train_loss, color='teal', label='Training Loss')\n",
    "    ax.plot(val_loss, color='orange', label='Validation Loss')\n",
    "    \n",
    "    ax.set_title('Loss', fontsize=20)\n",
    "    ax.legend(loc=\"upper left\")\n",
    "    plt.show()\n",
    "\n",
    "def plot_accuracy(train_accuracy, val_accuracy):\n",
    "    fig, ax = plt.subplots()\n",
    "    ax.plot(train_accuracy, color='teal', label='Training Accuracy')\n",
    "    ax.plot(val_accuracy, color='orange', label='Validation Accuracy')\n",
    "    \n",
    "    ax.set_title('Accuracy', fontsize=20)\n",
    "    ax.legend(loc=\"upper left\")\n",
    "    plt.show()"
   ]
  },
  {
   "cell_type": "code",
   "execution_count": null,
   "id": "84be6900",
   "metadata": {},
   "outputs": [],
   "source": [
    "# Plot the loss graph\n",
    "train_loss_history = train_history.history['loss']\n",
    "val_loss_history = train_history.history['val_loss']\n",
    "plot_loss(train_loss_history, val_loss_history)\n",
    "\n",
    "# Plot the accuracy\n",
    "train_accuracy_history = train_history.history['accuracy']\n",
    "val_accuracy_history = train_history.history['val_accuracy']\n",
    "plot_accuracy(train_accuracy_history, val_accuracy_history)"
   ]
  },
  {
   "cell_type": "code",
   "execution_count": null,
   "id": "ac238895",
   "metadata": {},
   "outputs": [],
   "source": []
  },
  {
   "cell_type": "code",
   "execution_count": null,
   "id": "9775c0f7",
   "metadata": {},
   "outputs": [],
   "source": []
  },
  {
   "cell_type": "code",
   "execution_count": null,
   "id": "b3bdb0a7",
   "metadata": {},
   "outputs": [],
   "source": []
  },
  {
   "cell_type": "code",
   "execution_count": null,
   "id": "51ea4546",
   "metadata": {},
   "outputs": [],
   "source": []
  },
  {
   "cell_type": "code",
   "execution_count": null,
   "id": "353212cd",
   "metadata": {},
   "outputs": [],
   "source": []
  }
 ],
 "metadata": {
  "kernelspec": {
   "display_name": "Python 3 (ipykernel)",
   "language": "python",
   "name": "python3"
  },
  "language_info": {
   "codemirror_mode": {
    "name": "ipython",
    "version": 3
   },
   "file_extension": ".py",
   "mimetype": "text/x-python",
   "name": "python",
   "nbconvert_exporter": "python",
   "pygments_lexer": "ipython3",
   "version": "3.11.5"
  }
 },
 "nbformat": 4,
 "nbformat_minor": 5
}
