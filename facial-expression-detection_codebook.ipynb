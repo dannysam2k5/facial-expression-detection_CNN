{
 "cells": [
  {
   "cell_type": "markdown",
   "id": "a54154b7",
   "metadata": {},
   "source": [
    "# Facial Expression Detection using Convolutional Neural Networks 🤖📷\n",
    "\n",
    "Facial expression detection is a fascinating field within computer vision that involves the recognition and interpretation of human emotions based on facial expressions. In this Jupyter Notebook, we'll build a Facial Expression Detection model using Convolutional Neural Networks (CNNs). This model will be trained to classify facial expressions into different emotion categories, such as happiness, sadness, anger, etc. 😊😢😠\n",
    "\n",
    "### Goal 🚀💻\n",
    "The primary goal of this project is to create an effective facial expression detection system that can be integrated into various applications, including human-computer interaction, virtual reality, and emotion-aware technology.\n",
    "\n",
    "### Tools & Libraries 🛠️\n",
    "\n",
    "We will be using the below tools and libriaries for our implementation\n",
    "- TensorFlow: An open-source machine learning framework that includes tools for building and training deep learning models.\n",
    "- Keras: A high-level neural network API that runs on top of TensorFlow, making it easier to build and experiment with deep learning models.\n",
    "- Matplotlib: A visualisation library 📊🐍\n",
    "\n",
    "## Implementation Steps\n",
    "1. **Environment setup:** \n",
    "2. **Import necessary libraries:**\n",
    "3. **Dataset collection:**\n",
    "4. **Data Augmentation & Data Generators:**\n",
    "5. **CNN model building:**\n",
    "6. **Model training:**\n",
    "7. **Model evaluation:**\n",
    "\n",
    "Throughout the notebook, we'll provide detailed explanations, code snippets and visualizations to ensure a clear understanding of the entire process. 🧠🛠️\n",
    "\n",
    "Let's get started! 🚀🚀🚀🚀"
   ]
  },
  {
   "cell_type": "markdown",
   "id": "aba55c7c",
   "metadata": {},
   "source": [
    "## Step 1: Environment setup\n",
    "Ensure all necessary libraries are installed. Installation can be achieved using the below command"
   ]
  },
  {
   "cell_type": "code",
   "execution_count": 12,
   "id": "ab60a917",
   "metadata": {},
   "outputs": [
    {
     "name": "stdout",
     "output_type": "stream",
     "text": [
      "WARNING:tensorflow:From C:\\Users\\danny\\anaconda3\\Lib\\site-packages\\keras\\src\\losses.py:2976: The name tf.losses.sparse_softmax_cross_entropy is deprecated. Please use tf.compat.v1.losses.sparse_softmax_cross_entropy instead.\n",
      "\n",
      "TensorFlow version: 2.15.0\n",
      "NumPy version: 1.24.3\n",
      "Matplotlib version: 3.7.2\n"
     ]
    }
   ],
   "source": [
    "# Use the pip to install the necessary libraries\n",
    "\n",
    "# pip install tensorflow\n",
    "# pip install numpy\n",
    "# pip matplotlib\n",
    "\n",
    "\n",
    "# The below code snippet is used to check the versions of the libraries\n",
    "\n",
    "import tensorflow as tf\n",
    "import numpy as np\n",
    "import matplotlib\n",
    "\n",
    "print(\"TensorFlow version:\", tf.__version__)\n",
    "print(\"NumPy version:\", np.__version__)\n",
    "print(\"Matplotlib version:\", matplotlib.__version__)\n",
    "\n",
    "\n"
   ]
  },
  {
   "cell_type": "markdown",
   "id": "78b985b7",
   "metadata": {},
   "source": [
    "## Step 2: Import necessary libraries\n",
    "\n",
    "Import all required libraries in this section of your notebook. It is always good practice to keep your code tidy and well structured."
   ]
  },
  {
   "cell_type": "code",
   "execution_count": null,
   "id": "bf11732a",
   "metadata": {},
   "outputs": [],
   "source": [
    "# Deep learning libraries\n",
    "\n",
    "import tensorflow as tf\n",
    "from tensorflow.keras.models import Sequential\n",
    "from tensorflow.keras.layers import Conv2D, MaxPooling2D, Flatten, Dense\n",
    "from tensorflow.keras.preprocessing.image import ImageDataGenerator\n",
    "\n",
    "# visualization libraries\n",
    "import matplotlib.pyplot as plt"
   ]
  },
  {
   "cell_type": "markdown",
   "id": "ed32b889",
   "metadata": {},
   "source": [
    "## Step 3: Dataset collection\n",
    "\n",
    "For the purpose this exercise, we will use facial expression dataset named **AffectNeT** from Kaggle. \n",
    "The **AffectNet** dataset is intended for use in YOLO projects involving facial expression recognition.\n",
    "\n",
    "According to the instructions on the Kaggle website, the entire data set is separated into train-test-validation folders with modified image names and matching txt files with annotations.\n",
    "\n",
    "There are 8 emotion classes which are mapped as:\n",
    "- 0- Anger\n",
    "- 1- Contempt\n",
    "- 2- Disgust\n",
    "- 3- Fear\n",
    "- 4- Happy\n",
    "- 5- Neutral\n",
    "- 6- Sad\n",
    "- 7- Surprise"
   ]
  }
 ],
 "metadata": {
  "kernelspec": {
   "display_name": "Python 3 (ipykernel)",
   "language": "python",
   "name": "python3"
  },
  "language_info": {
   "codemirror_mode": {
    "name": "ipython",
    "version": 3
   },
   "file_extension": ".py",
   "mimetype": "text/x-python",
   "name": "python",
   "nbconvert_exporter": "python",
   "pygments_lexer": "ipython3",
   "version": "3.11.5"
  }
 },
 "nbformat": 4,
 "nbformat_minor": 5
}
